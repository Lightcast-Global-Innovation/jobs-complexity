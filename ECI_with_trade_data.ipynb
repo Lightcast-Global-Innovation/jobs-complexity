{
 "cells": [
  {
   "cell_type": "markdown",
   "id": "f0825a27-f0bd-4c19-9b8b-7a11854ed61a",
   "metadata": {},
   "source": [
    "# Economic complexity\n",
    "\n",
    "This notebook is based on:\n",
    "https://github.com/cid-harvard/py-ecomplexity"
   ]
  },
  {
   "cell_type": "code",
   "execution_count": 1,
   "id": "cf4382b9-0ec8-47b7-b019-7d01954c4e3e",
   "metadata": {},
   "outputs": [],
   "source": [
    "# Toogle the comment to install py-ecomplexity:\n",
    "# !pip install ecomplexity"
   ]
  },
  {
   "cell_type": "markdown",
   "id": "35870b97-9142-4924-9d6a-2b52661293a6",
   "metadata": {},
   "source": []
  },
  {
   "cell_type": "markdown",
   "id": "39bab5c5-bea2-46ea-92c6-6cc1bf0b1e5b",
   "metadata": {},
   "source": [
    "## Economic complexity wit EU trade since 2002 by CPA 2.1"
   ]
  },
  {
   "cell_type": "code",
   "execution_count": 5,
   "id": "d5756349-cc48-4979-a555-9112a8b5cc81",
   "metadata": {},
   "outputs": [],
   "source": [
    "import pandas as pd\n",
    "from ecomplexity import ecomplexity\n",
    "from ecomplexity import proximity"
   ]
  },
  {
   "cell_type": "markdown",
   "id": "fce5f005-a6b2-4693-9284-fb0a5aaae7de",
   "metadata": {},
   "source": [
    "Import the data from EUROSTAT dataset:\n",
    "[EU trade since 2002 by CPA 2.1](https://ec.europa.eu/eurostat/databrowser/view/DS-059268__custom_3573224/default/table?lang=en)\n"
   ]
  },
  {
   "cell_type": "code",
   "execution_count": 9,
   "id": "ac2564b7-0662-4076-9f09-e15341d1b10c",
   "metadata": {},
   "outputs": [],
   "source": [
    "df = pd.read_excel(\"DS-1062396.xls\", sheet_name = \"Aggregate data\")"
   ]
  },
  {
   "cell_type": "code",
   "execution_count": 10,
   "id": "bfb9a89f-ae11-46b5-ba62-b1c3c853f60c",
   "metadata": {},
   "outputs": [
    {
     "name": "stdout",
     "output_type": "stream",
     "text": [
      "<class 'pandas.core.frame.DataFrame'>\n",
      "RangeIndex: 17640 entries, 0 to 17639\n",
      "Data columns (total 5 columns):\n",
      " #   Column         Non-Null Count  Dtype \n",
      "---  ------         --------------  ----- \n",
      " 0   REPORTER       17640 non-null  object\n",
      " 1   PRODUCT        17640 non-null  int64 \n",
      " 2   PRODUCT_LABEL  17640 non-null  object\n",
      " 3   YEAR           17640 non-null  int64 \n",
      " 4   VALUE          17640 non-null  int64 \n",
      "dtypes: int64(3), object(2)\n",
      "memory usage: 689.2+ KB\n"
     ]
    }
   ],
   "source": [
    "df.info()"
   ]
  },
  {
   "cell_type": "markdown",
   "id": "4c144fa7-ee9c-4cb4-bdf7-fcd7382927c3",
   "metadata": {},
   "source": [
    "Compute the complexity"
   ]
  },
  {
   "cell_type": "code",
   "execution_count": 11,
   "id": "ebdc0db0-7ef0-4e51-91a2-b43841ac48e7",
   "metadata": {},
   "outputs": [
    {
     "name": "stdout",
     "output_type": "stream",
     "text": [
      "2017\n",
      "2018\n",
      "2019\n",
      "2020\n",
      "2021\n"
     ]
    }
   ],
   "source": [
    "trade_cols = {'time':'YEAR', 'loc':'REPORTER', 'prod':'PRODUCT_LABEL', 'val':'VALUE'}\n",
    "cdata = ecomplexity(data=df, cols_input=trade_cols, rca_mcp_threshold= 1)"
   ]
  },
  {
   "cell_type": "markdown",
   "id": "8cee368d-9e26-49c0-bd22-71d86a717d79",
   "metadata": {},
   "source": [
    "Calculate proximity matrix"
   ]
  },
  {
   "cell_type": "code",
   "execution_count": 13,
   "id": "caea36a5-2e49-48c8-ae03-e9f82c634774",
   "metadata": {},
   "outputs": [
    {
     "name": "stdout",
     "output_type": "stream",
     "text": [
      "2017\n",
      "2018\n",
      "2019\n",
      "2020\n",
      "2021\n"
     ]
    }
   ],
   "source": [
    "prox_df = proximity(df, trade_cols)"
   ]
  },
  {
   "cell_type": "markdown",
   "id": "1a1dc3b4-24ea-442a-a3f6-0a682a7a6c40",
   "metadata": {},
   "source": [
    "Export to a csv to explore the data in Tableau"
   ]
  },
  {
   "cell_type": "code",
   "execution_count": 14,
   "id": "017bb512-0638-471b-b2d1-37188f4c8c12",
   "metadata": {},
   "outputs": [],
   "source": [
    "cdata.to_csv(\"/Users/mauropelucchi/Desktop/cdada.csv\")\n",
    "prox_df.to_csv(\"/Users/mauropelucchi/Desktop/prox_df.csv\")"
   ]
  },
  {
   "cell_type": "code",
   "execution_count": null,
   "id": "05e1a34a-f27a-438b-a89c-fd33f6699145",
   "metadata": {},
   "outputs": [],
   "source": []
  }
 ],
 "metadata": {
  "kernelspec": {
   "display_name": "Python 3",
   "language": "python",
   "name": "python3"
  },
  "language_info": {
   "codemirror_mode": {
    "name": "ipython",
    "version": 3
   },
   "file_extension": ".py",
   "mimetype": "text/x-python",
   "name": "python",
   "nbconvert_exporter": "python",
   "pygments_lexer": "ipython3",
   "version": "3.8.8"
  }
 },
 "nbformat": 4,
 "nbformat_minor": 5
}
